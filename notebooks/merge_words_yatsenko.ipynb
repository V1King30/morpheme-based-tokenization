{
 "cells": [
  {
   "cell_type": "code",
   "execution_count": 1,
   "metadata": {},
   "outputs": [],
   "source": [
    "import json"
   ]
  },
  {
   "cell_type": "code",
   "execution_count": 2,
   "metadata": {},
   "outputs": [],
   "source": [
    "with open('../data/processed/yatsenko_morph_words_part1_processed.json', 'r', encoding='utf-8') as f:\n",
    "    words1 = json.load(f)\n",
    "\n",
    "with open('../data/processed/yatsenko_morph_words_part2_processed.json', 'r', encoding='utf-8') as f:\n",
    "    words2 = json.load(f)"
   ]
  },
  {
   "cell_type": "code",
   "execution_count": 4,
   "metadata": {},
   "outputs": [],
   "source": [
    "concated_words = [*words1['words'], *words2['words']]\n",
    "\n",
    "with open('../data/processed/yatsenko_morph_words_processed.json', 'w', encoding='utf-8') as f:\n",
    "    json.dump({'words': concated_words}, f, ensure_ascii=False, indent=2)"
   ]
  },
  {
   "cell_type": "code",
   "execution_count": null,
   "metadata": {},
   "outputs": [],
   "source": []
  }
 ],
 "metadata": {
  "kernelspec": {
   "display_name": "academic_writings_env",
   "language": "python",
   "name": "python3"
  },
  "language_info": {
   "codemirror_mode": {
    "name": "ipython",
    "version": 3
   },
   "file_extension": ".py",
   "mimetype": "text/x-python",
   "name": "python",
   "nbconvert_exporter": "python",
   "pygments_lexer": "ipython3",
   "version": "3.12.8"
  },
  "orig_nbformat": 4,
  "vscode": {
   "interpreter": {
    "hash": "9abdd82aec9bcd2c3745ccf49686a3b0ec82fa4e32b02eeaa725aa3e53c148f3"
   }
  }
 },
 "nbformat": 4,
 "nbformat_minor": 2
}
