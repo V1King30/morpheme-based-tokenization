{
 "cells": [
  {
   "cell_type": "code",
   "execution_count": 1,
   "metadata": {},
   "outputs": [],
   "source": [
    "import json"
   ]
  },
  {
   "attachments": {},
   "cell_type": "markdown",
   "metadata": {},
   "source": [
    "### Replacing"
   ]
  },
  {
   "cell_type": "code",
   "execution_count": 9,
   "metadata": {},
   "outputs": [],
   "source": [
    "with open('../data/raw/yatsenko_morph_words_part2_encoded.json', 'r', encoding='utf-8') as f:\n",
    "    words1 = json.load(f)"
   ]
  },
  {
   "cell_type": "code",
   "execution_count": 10,
   "metadata": {},
   "outputs": [],
   "source": [
    "words = words1['words']"
   ]
  },
  {
   "cell_type": "code",
   "execution_count": 11,
   "metadata": {},
   "outputs": [
    {
     "data": {
      "text/plain": [
       "['оаз/ис',\n",
       " 'оаз/ис/н/ий',\n",
       " '023/11/11/11/1',\n",
       " 'оаз/ов/ий',\n",
       " 'о/баб/и/ти/ся',\n",
       " 'об/а/біч',\n",
       " 'о/бабл/ен/ий',\n",
       " 'о/багр/ен/ий',\n",
       " 'о/багр/и/ти',\n",
       " 'o/багр/ян/й/ти']"
      ]
     },
     "execution_count": 11,
     "metadata": {},
     "output_type": "execute_result"
    }
   ],
   "source": [
    "words[:10]"
   ]
  },
  {
   "cell_type": "code",
   "execution_count": 12,
   "metadata": {},
   "outputs": [],
   "source": [
    "for indx, word in enumerate(words):\n",
    "    words[indx] = str.lower(words[indx])\n",
    "    if 'j/а' in word:\n",
    "        words[indx] = words[indx].replace('j/а', 'я')\n",
    "    if 'r' in word:\n",
    "        words[indx] = words[indx].replace('r', 'г')\n",
    "    if 'uii/a' in word:\n",
    "        words[indx] = words[indx].replace('uii/a', 'ція')\n",
    "    if 'а́' in word or 'á' in word:\n",
    "        words[indx] = words[indx].replace('а́', 'а').replace('á', 'а')\n",
    "    if 'é' in word:\n",
    "        words[indx] = words[indx].replace('е́', 'е')\n",
    "    if 'и́' in word:\n",
    "        words[indx] = words[indx].replace('и́', 'и')\n",
    "    if 'о́' in word:\n",
    "        words[indx] = words[indx].replace('о́', 'о')\n",
    "    if 'у́' in word:\n",
    "        words[indx] = words[indx].replace('у́', 'у')\n",
    "    if 'ё' in word:\n",
    "        words[indx] = words[indx].replace('ё', 'е')\n",
    "    if 'b' in word:\n",
    "        words[indx] = words[indx].replace('b', 'в')\n",
    "    if 't' in word:\n",
    "        words[indx] = words[indx].replace('t', 'т')\n",
    "    if 'йй' in word:\n",
    "        words[indx] = words[indx].replace('йй', 'ий')\n",
    "    if 'k' in word:\n",
    "        words[indx] = words[indx].replace('k', 'к')\n",
    "    words[indx] = words[indx].replace('\\\\_', '')"
   ]
  },
  {
   "cell_type": "code",
   "execution_count": 13,
   "metadata": {},
   "outputs": [],
   "source": [
    "for indx, word in enumerate(words):\n",
    "    if word == \"\" or word == \"·\":\n",
    "        words.pop(indx)"
   ]
  },
  {
   "attachments": {},
   "cell_type": "markdown",
   "metadata": {},
   "source": [
    "### Merging"
   ]
  },
  {
   "cell_type": "code",
   "execution_count": 19,
   "metadata": {},
   "outputs": [],
   "source": [
    "new_word_list = []"
   ]
  },
  {
   "cell_type": "code",
   "execution_count": 20,
   "metadata": {},
   "outputs": [],
   "source": [
    "cur_word = ''\n",
    "add_to_next = False\n",
    "\n",
    "for word in words:\n",
    "    if word == \"/\":\n",
    "        add_to_next = True\n",
    "    elif word.startswith(\"/\"):\n",
    "        cur_word += word\n",
    "    elif add_to_next:\n",
    "        cur_word += '/' + word\n",
    "        add_to_next = False\n",
    "    else:\n",
    "        new_word_list.append(cur_word)\n",
    "        cur_word = word\n"
   ]
  },
  {
   "attachments": {},
   "cell_type": "markdown",
   "metadata": {},
   "source": [
    "### Delete description"
   ]
  },
  {
   "cell_type": "code",
   "execution_count": 23,
   "metadata": {},
   "outputs": [],
   "source": [
    "new_word_list = []"
   ]
  },
  {
   "cell_type": "code",
   "execution_count": null,
   "metadata": {},
   "outputs": [],
   "source": [
    "for word in words:\n",
    "    if word[0] == \"(\" or word[-1] == \"(\":\n",
    "        continue\n",
    "    new_word_list.append(word)"
   ]
  },
  {
   "cell_type": "code",
   "execution_count": 130,
   "metadata": {},
   "outputs": [],
   "source": [
    "with open('../data/yatsenko_morph_words_part2_processed.json', 'w', encoding='utf-8') as f:\n",
    "    json.dump({'words': new_word_list}, f, ensure_ascii=False, indent=2)"
   ]
  }
 ],
 "metadata": {
  "kernelspec": {
   "display_name": "academic_writings_env",
   "language": "python",
   "name": "python3"
  },
  "language_info": {
   "codemirror_mode": {
    "name": "ipython",
    "version": 3
   },
   "file_extension": ".py",
   "mimetype": "text/x-python",
   "name": "python",
   "nbconvert_exporter": "python",
   "pygments_lexer": "ipython3",
   "version": "3.12.8 (tags/v3.12.8:2dc476b, Dec  3 2024, 19:30:04) [MSC v.1942 64 bit (AMD64)]"
  },
  "orig_nbformat": 4,
  "vscode": {
   "interpreter": {
    "hash": "9abdd82aec9bcd2c3745ccf49686a3b0ec82fa4e32b02eeaa725aa3e53c148f3"
   }
  }
 },
 "nbformat": 4,
 "nbformat_minor": 2
}
