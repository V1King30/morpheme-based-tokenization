{
 "cells": [
  {
   "cell_type": "code",
   "execution_count": null,
   "metadata": {},
   "outputs": [],
   "source": [
    "!pip install tokenizers"
   ]
  },
  {
   "cell_type": "code",
   "execution_count": 12,
   "metadata": {},
   "outputs": [],
   "source": [
    "from tokenizers import Tokenizer\n",
    "from tokenizers.models import BPE\n",
    "from tokenizers.trainers import BpeTrainer\n",
    "from tokenizers.pre_tokenizers import Whitespace\n",
    "from tokenizers.normalizers import Lowercase, NFD, StripAccents, Sequence\n",
    "from tokenizers.processors import BertProcessing\n",
    "from tokenizers.pre_tokenizers import PreTokenizer\n",
    "from tokenizers.implementations import ByteLevelBPETokenizer\n",
    "\n",
    "import os\n",
    "import bz2"
   ]
  },
  {
   "cell_type": "code",
   "execution_count": 14,
   "metadata": {},
   "outputs": [
    {
     "name": "stdout",
     "output_type": "stream",
     "text": [
      "0.21.0\n"
     ]
    }
   ],
   "source": [
    "import tokenizers\n",
    "print(tokenizers.__version__)"
   ]
  },
  {
   "cell_type": "code",
   "execution_count": 2,
   "metadata": {},
   "outputs": [],
   "source": [
    "# === Step 1: Prepare morphemes ===\n",
    "morpheme_vocab = ['про', 'чит', 'а', 'ти', 'ви', 'робн', 'иц', 'тв', 'о']\n",
    "special_tokens = [\"[PAD]\", \"[UNK]\", \"[CLS]\", \"[SEP]\", \"[MASK]\"]\n",
    "\n",
    "train_text_list = ['../data/text_corpus/ubertext.court.filter_rus_gcld+short.text_only.txt.bz2',\n",
    "                   # '../data/text_corpus/ubertext.fiction.filter_rus_gcld+short.text_only.txt.bz2',\n",
    "                   # '../data/text_corpus/ubertext.social.filter_rus_gcld+short.text_only.txt.bz2',\n",
    "                   # '../data/text_corpus/ubertext.wikipedia.filter_rus_gcld+short.text_only.txt.bz2',\n",
    "                   # '../data/text_corpus/ubertext.court.filter_rus_gcld+short.text_only.txt.bz2'\n",
    "                   ]"
   ]
  },
  {
   "cell_type": "code",
   "execution_count": 3,
   "metadata": {},
   "outputs": [],
   "source": [
    "# === Step 2: Prepare training data ===\n",
    "def iter_bz2_lines(file_list: list):\n",
    "    for file in file_list:\n",
    "        with bz2.open(file, mode=\"rt\", encoding=\"utf-8\", errors=\"ignore\") as f:\n",
    "            for line in f:\n",
    "                line = line.strip()\n",
    "                if line:\n",
    "                    yield line"
   ]
  },
  {
   "cell_type": "code",
   "execution_count": 4,
   "metadata": {},
   "outputs": [],
   "source": [
    "# === Step 3: Initialize Tokenizer ===\n",
    "tokenizer = Tokenizer(BPE(unk_token=\"[UNK]\"))\n",
    "\n",
    "alphabet = list(\"абвгґдеєжзиіїйклмнопрстуфхцчшщьюяabcdefghijklmnopqrstuvwxyz0123456789.,!?\\\"' \")\n",
    "\n",
    "# Optional: normalize + pre-tokenize\n",
    "tokenizer.normalizer = Sequence([NFD(), Lowercase(), StripAccents()])\n",
    "tokenizer.pre_tokenizer = Whitespace()\n",
    "\n",
    "# === Step 4: Train BPE with morphemes as initial alphabet ===\n",
    "trainer = BpeTrainer(\n",
    "    vocab_size=500,\n",
    "    show_progress=True,\n",
    "    initial_alphabet=alphabet,\n",
    "    special_tokens=special_tokens\n",
    ")"
   ]
  },
  {
   "cell_type": "code",
   "execution_count": 5,
   "metadata": {},
   "outputs": [],
   "source": [
    "# Train tokenizer\n",
    "tokenizer.train_from_iterator(iter_bz2_lines(train_text_list), trainer)"
   ]
  },
  {
   "cell_type": "code",
   "execution_count": 6,
   "metadata": {},
   "outputs": [],
   "source": [
    "vocab = tokenizer.get_vocab()"
   ]
  },
  {
   "cell_type": "code",
   "execution_count": 7,
   "metadata": {},
   "outputs": [
    {
     "data": {
      "text/plain": [
       "500"
      ]
     },
     "execution_count": 7,
     "metadata": {},
     "output_type": "execute_result"
    }
   ],
   "source": [
    "len(vocab)"
   ]
  },
  {
   "cell_type": "code",
   "execution_count": null,
   "metadata": {},
   "outputs": [],
   "source": [
    "# === Step 5: Save tokenizer ===\n",
    "os.makedirs(\"morpheme_bpe_tokenizer\", exist_ok=True)\n",
    "tokenizer.model.save(\"morpheme_bpe_tokenizer\")"
   ]
  },
  {
   "cell_type": "code",
   "execution_count": null,
   "metadata": {},
   "outputs": [],
   "source": [
    "# === Optional: Test it ===\n",
    "tokenizer.enable_padding(pad_id=0, pad_token=\"[PAD]\")\n",
    "output = tokenizer.encode(\"прочитати виробництво\")\n",
    "print(\"Tokens:\", output.tokens)"
   ]
  }
 ],
 "metadata": {
  "kernelspec": {
   "display_name": "academic_writings_env",
   "language": "python",
   "name": "python3"
  },
  "language_info": {
   "codemirror_mode": {
    "name": "ipython",
    "version": 3
   },
   "file_extension": ".py",
   "mimetype": "text/x-python",
   "name": "python",
   "nbconvert_exporter": "python",
   "pygments_lexer": "ipython3",
   "version": "3.12.8"
  },
  "orig_nbformat": 4,
  "vscode": {
   "interpreter": {
    "hash": "9abdd82aec9bcd2c3745ccf49686a3b0ec82fa4e32b02eeaa725aa3e53c148f3"
   }
  }
 },
 "nbformat": 4,
 "nbformat_minor": 2
}
